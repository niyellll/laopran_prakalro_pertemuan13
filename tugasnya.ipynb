{
 "cells": [
  {
   "cell_type": "markdown",
   "metadata": {},
   "source": [
    "Latihan 13.1 Vidi adalah adik Tono yang sedang belajar bilangan prima. Vidi mengalami kesulitan untuk menentukan suatu bilangan bilangan prima atau bukan. Untuk membantu adiknya\n",
    "Tono kemudian membuat program untuk pengecekan bilangan prima dengan menggunakan\n",
    "fungsi rekursif. Bantulah Tono untuk menyelesaikan tugas tersebut. "
   ]
  },
  {
   "cell_type": "code",
   "execution_count": 13,
   "metadata": {},
   "outputs": [
    {
     "name": "stdout",
     "output_type": "stream",
     "text": [
      "bilangan prima\n"
     ]
    }
   ],
   "source": [
    "def cek_prima(n):\n",
    "    if n == 1:\n",
    "        return True\n",
    "    elif bil % n == 0:\n",
    "        return False\n",
    "    else:\n",
    "        return cek_prima(n- 1)\n",
    "    \n",
    "bil = int(input(\"masukan angka :\"))\n",
    "if bil == 1 :\n",
    "    print(\"bukan prima\")\n",
    "elif cek_prima(bil-1):\n",
    "    print(\"bilangan prima\")\n",
    "else:\n",
    "    print(\"bukan prima\")"
   ]
  },
  {
   "cell_type": "markdown",
   "metadata": {},
   "source": [
    "Latihan 13.2 Buatlah fungsi rekursif mengetahui suatu kalimat adalah palindrom atau bukan!"
   ]
  },
  {
   "cell_type": "code",
   "execution_count": 22,
   "metadata": {},
   "outputs": [
    {
     "name": "stdout",
     "output_type": "stream",
     "text": [
      "Kalimat tersebut bukan palindrom.\n"
     ]
    }
   ],
   "source": [
    "def is_palindrom(kalimat):\n",
    "    kalimat = kalimat.replace(\" \", \"\").lower()\n",
    "    if len(kalimat) <= 1:\n",
    "        return True\n",
    "    return kalimat[0] == kalimat[-1] and is_palindrom(kalimat[1:-1])\n",
    "\n",
    "kalimat = \"A man, a plan, a canal, Panama\"\n",
    "\n",
    "if is_palindrom(kalimat):\n",
    "    print(\"Kalimat tersebut adalah palindrom.\")\n",
    "else:\n",
    "    print(\"Kalimat tersebut bukan palindrom.\")\n"
   ]
  },
  {
   "cell_type": "markdown",
   "metadata": {},
   "source": [
    "Latihan 13.3 Buatlah fungsi rekursif untuk menghitung jumlah deret ganjil dari 1 + 3 + 7 + . . .\n",
    "+ n! "
   ]
  },
  {
   "cell_type": "code",
   "execution_count": 6,
   "metadata": {},
   "outputs": [
    {
     "name": "stdout",
     "output_type": "stream",
     "text": [
      "1. 36\n",
      "2. 144\n",
      "3. 4\n"
     ]
    }
   ],
   "source": [
    "def deret_ganjil(n):\n",
    "    if n % 2 == 0:\n",
    "        n = n - 1\n",
    "        \n",
    "    if n == 1:\n",
    "        return 1\n",
    "    else:\n",
    "        return deret_ganjil(n-2) + n\n",
    "    \n",
    "print(\"1.\", deret_ganjil(11))\n",
    "print(\"2.\", deret_ganjil(23))\n",
    "print(\"3.\", deret_ganjil(4))"
   ]
  },
  {
   "cell_type": "markdown",
   "metadata": {},
   "source": [
    "Latihan 13.4 Buatlah fungsi rekursif untuk mengetahui jumlah digit dari suatu bilangan. Seperti\n",
    "misalnya tulisan: \"234\" maka jumlah digitnya adalah 2+3+4 = 9!"
   ]
  },
  {
   "cell_type": "code",
   "execution_count": 7,
   "metadata": {},
   "outputs": [
    {
     "name": "stdout",
     "output_type": "stream",
     "text": [
      "Bilangan: 234\n",
      "Jumlah digit: 9\n"
     ]
    }
   ],
   "source": [
    "def jumlah_digit_rekursif(bilangan):\n",
    "    return bilangan if bilangan < 10 else bilangan % 10 + jumlah_digit_rekursif(bilangan // 10)\n",
    "\n",
    "bilangan = 234\n",
    "print(\"Bilangan:\", bilangan)\n",
    "print(\"Jumlah digit:\", jumlah_digit_rekursif(bilangan))\n"
   ]
  },
  {
   "cell_type": "markdown",
   "metadata": {},
   "source": [
    "Latihan 13.5 Buatlah fungsi rekursif untuk menghitung kombinasi!"
   ]
  },
  {
   "cell_type": "code",
   "execution_count": 8,
   "metadata": {},
   "outputs": [
    {
     "name": "stdout",
     "output_type": "stream",
     "text": [
      "Kombinasi dari 5 dan 2 adalah: 10\n"
     ]
    }
   ],
   "source": [
    "def kombinasi(n, k):\n",
    "    return 1 if k == 0 or k == n else kombinasi(n - 1, k - 1) + kombinasi(n - 1, k)\n",
    "\n",
    "n = 5\n",
    "k = 2\n",
    "print(\"Kombinasi dari\", n, \"dan\", k, \"adalah:\", kombinasi(n, k))\n"
   ]
  }
 ],
 "metadata": {
  "kernelspec": {
   "display_name": "Python 3",
   "language": "python",
   "name": "python3"
  },
  "language_info": {
   "codemirror_mode": {
    "name": "ipython",
    "version": 3
   },
   "file_extension": ".py",
   "mimetype": "text/x-python",
   "name": "python",
   "nbconvert_exporter": "python",
   "pygments_lexer": "ipython3",
   "version": "3.12.0"
  }
 },
 "nbformat": 4,
 "nbformat_minor": 2
}
